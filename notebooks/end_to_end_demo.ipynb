{
 "cells": [
  {
   "cell_type": "code",
   "execution_count": 1,
   "metadata": {},
   "outputs": [],
   "source": [
    "import sys\n",
    "import os\n",
    "\n",
    "# Get the root directory (one level up from 'notebooks')\n",
    "root_dir = os.path.abspath(os.path.join(os.getcwd(), \"..\"))\n",
    "src_dir = os.path.join(root_dir, \"src\")\n",
    "if src_dir not in sys.path:\n",
    "    sys.path.append(src_dir)\n",
    "\n",
    "from dataprep import (\n",
    "    generate_all_vendor_reports,\n",
    "    push_all_sql_charts,\n",
    "    create_all_windows_charts,\n",
    "    get_and_save_batch_size,\n",
    ")\n",
    "from automation import (\n",
    "    update_header_and_detail_tables,\n",
    "    reset_and_monitor_rrl,\n",
    "    reset_and_process_rrl,\n",
    "    reset_and_monitor_rru,\n",
    "    ntimes_10percent_increment,\n",
    ")\n",
    "from utils import (\n",
    "    ensuring_project_directories_all_exist,\n",
    "    open_excelsetup_file,\n",
    "    clean_leaf_directories\n",
    ")"
   ]
  },
  {
   "cell_type": "markdown",
   "metadata": {},
   "source": [
    "# Clearing up all directories"
   ]
  },
  {
   "cell_type": "code",
   "execution_count": 2,
   "metadata": {},
   "outputs": [],
   "source": [
    "clean_leaf_directories()"
   ]
  },
  {
   "cell_type": "markdown",
   "metadata": {},
   "source": [
    "# Ensuring that all directories exist"
   ]
  },
  {
   "cell_type": "code",
   "execution_count": 6,
   "metadata": {},
   "outputs": [],
   "source": [
    "ensuring_project_directories_all_exist()"
   ]
  },
  {
   "cell_type": "markdown",
   "metadata": {},
   "source": [
    "# Generating reports for all vendors"
   ]
  },
  {
   "cell_type": "markdown",
   "metadata": {},
   "source": [
    "Cleans up and creates all report files"
   ]
  },
  {
   "cell_type": "code",
   "execution_count": 7,
   "metadata": {},
   "outputs": [],
   "source": [
    "generate_all_vendor_reports()"
   ]
  },
  {
   "cell_type": "markdown",
   "metadata": {},
   "source": [
    "# For Creating charts in Windows Location"
   ]
  },
  {
   "cell_type": "markdown",
   "metadata": {},
   "source": [
    "Cleans up and creates all windows location charts"
   ]
  },
  {
   "cell_type": "code",
   "execution_count": 8,
   "metadata": {},
   "outputs": [
    {
     "name": "stdout",
     "output_type": "stream",
     "text": [
      "Gryff :- \n",
      "All Charts : 90665\n",
      "Limited Charts : 54399\n",
      "Left Charts : 36266\n",
      "\n",
      "Huffle :- \n",
      "All Charts : 90849\n",
      "Limited Charts : 54509\n",
      "Left Charts : 36340\n",
      "\n",
      "Raven :- \n",
      "All Charts : 95414\n",
      "Limited Charts : 57248\n",
      "Left Charts : 38166\n",
      "\n"
     ]
    }
   ],
   "source": [
    "create_all_windows_charts()"
   ]
  },
  {
   "cell_type": "markdown",
   "metadata": {},
   "source": [
    "# For Pushing charts to SQL"
   ]
  },
  {
   "cell_type": "markdown",
   "metadata": {},
   "source": [
    "Cleans up SQL Chart Tables and performs a fresh push to them"
   ]
  },
  {
   "cell_type": "code",
   "execution_count": 9,
   "metadata": {},
   "outputs": [
    {
     "name": "stdout",
     "output_type": "stream",
     "text": [
      "Gryff :- \n",
      "All Charts : 90665\n",
      "Limited Charts : 54399\n",
      "Left Charts : 36266\n",
      "\n",
      "Huffle :- \n",
      "All Charts : 90849\n",
      "Limited Charts : 54509\n",
      "Left Charts : 36340\n",
      "\n",
      "Raven :- \n",
      "All Charts : 95414\n",
      "Limited Charts : 57248\n",
      "Left Charts : 38166\n",
      "\n"
     ]
    }
   ],
   "source": [
    "push_all_sql_charts()"
   ]
  },
  {
   "cell_type": "markdown",
   "metadata": {},
   "source": [
    "# For creating CSV files"
   ]
  },
  {
   "cell_type": "markdown",
   "metadata": {},
   "source": [
    "For Running Excel Setup from xlsm file directly, the following command opens up the excel workbook\n",
    "\n",
    "Note:- For the first time opening the excel setup, you'd need to fix up the power query connections. Follow the following steps when opening the excel file for the first time.\n",
    "\n",
    "1. Open the excel file\n",
    "2. Click on Data > Queries & Connections\n",
    "3. Right Click and Select Edit on any of the Queries from the right menu, ex. Gryff_allcharts\n",
    "4. This would open up the Power Query Editor, you'd have to edit the 'Source' step of all three Queries - Gryff_allcharts, Huffle_allcharts, Raven_allcharts \n",
    "5. Change the source File from 'D:\\ANALYTICS\\Analytics Projects\\PUBLISHED-PROJECTS\\Medical-Charts-ETL\\data\\reports\\Gryff\\Gryff_chartlist.txt' to '<Repository Root>\\data\\reports\\Gryff\\Gryff_chartlist.txt>' \n",
    "6. Repeat this step for Huffle_allcharts and Raven_allcharts\n",
    "7. Save and Close"
   ]
  },
  {
   "cell_type": "code",
   "execution_count": 13,
   "metadata": {},
   "outputs": [],
   "source": [
    "open_excelsetup_file()"
   ]
  },
  {
   "cell_type": "markdown",
   "metadata": {},
   "source": [
    "## **Recon Report Load**"
   ]
  },
  {
   "cell_type": "markdown",
   "metadata": {},
   "source": [
    "# For Automation Monitoring Start"
   ]
  },
  {
   "cell_type": "markdown",
   "metadata": {},
   "source": [
    "Files can be directly copied and pasted in the monitored location for them to be processed"
   ]
  },
  {
   "cell_type": "code",
   "execution_count": 14,
   "metadata": {},
   "outputs": [
    {
     "name": "stdout",
     "output_type": "stream",
     "text": [
      "Clearing Reports from Automation Staging, Copying again from Source\n",
      "Done\n",
      "Deleting Messages from Recon Report Load Channel\n",
      "Message 1732601872.114959 deleted successfully\n",
      "Done\n",
      "Cleaning up Automation Locs\n",
      "Done\n",
      "Resetting Recon Report Load SQL Tables\n",
      "Done\n",
      "Starting Recon Report Load Monitoring\n",
      "Monitoring started on folder: D:\\ANALYTICS\\Analytics Projects\\PUBLISHED-PROJECTS\\Medical-Charts-ETL\\automation\\recon_report_load\\input for process: recon_report_load\n"
     ]
    }
   ],
   "source": [
    "reset_and_monitor_rrl()"
   ]
  },
  {
   "cell_type": "markdown",
   "metadata": {},
   "source": [
    "# For Auto Sequential Processing"
   ]
  },
  {
   "cell_type": "markdown",
   "metadata": {},
   "source": [
    "Files don't need to be copied for processing"
   ]
  },
  {
   "cell_type": "code",
   "execution_count": 3,
   "metadata": {},
   "outputs": [
    {
     "name": "stdout",
     "output_type": "stream",
     "text": [
      "Clearing Reports from Automation Staging, Copying again from Source\n",
      "Done\n",
      "Cleaning up Automation Locs\n",
      "Done\n",
      "Resetting Recon Report Load SQL Tables\n",
      "Done\n",
      "Auto Sequentially Loading Reports to SQL Tables\n",
      "Done\n"
     ]
    }
   ],
   "source": [
    "reset_and_process_rrl()"
   ]
  },
  {
   "cell_type": "markdown",
   "metadata": {},
   "source": [
    "Saving Chart Batch Size in external resource file for help in incrementing charts"
   ]
  },
  {
   "cell_type": "code",
   "execution_count": 4,
   "metadata": {},
   "outputs": [
    {
     "name": "stdout",
     "output_type": "stream",
     "text": [
      "Gryff\n",
      "{'Report': 90665,\n",
      " 'Windows': 54399,\n",
      " 'CSV': 54398,\n",
      " 'SQL': 54399,\n",
      " 'Windows Left': 36266,\n",
      " 'CSV Left': 36267,\n",
      " 'SQL Left': 36266}\n",
      "\n",
      "Huffle\n",
      "{'Report': 90849,\n",
      " 'Windows': 54509,\n",
      " 'CSV': 54509,\n",
      " 'SQL': 54509,\n",
      " 'Windows Left': 36340,\n",
      " 'CSV Left': 36340,\n",
      " 'SQL Left': 36340}\n",
      "\n",
      "Raven\n",
      "{'Report': 95414,\n",
      " 'Windows': 57248,\n",
      " 'CSV': 57248,\n",
      " 'SQL': 57248,\n",
      " 'Windows Left': 38166,\n",
      " 'CSV Left': 38166,\n",
      " 'SQL Left': 38166}\n",
      "\n"
     ]
    }
   ],
   "source": [
    "get_and_save_batch_size()"
   ]
  },
  {
   "cell_type": "markdown",
   "metadata": {},
   "source": [
    "# Updating Recon Report Detail Table Indicators & Header Table Tally Counts"
   ]
  },
  {
   "cell_type": "markdown",
   "metadata": {},
   "source": [
    "## **Recon Report Update**"
   ]
  },
  {
   "cell_type": "code",
   "execution_count": 5,
   "metadata": {},
   "outputs": [
    {
     "name": "stdout",
     "output_type": "stream",
     "text": [
      "Deleting Messages from Recon Report Update Channel\n",
      "Message 1732602302.521689 deleted successfully\n",
      "Done\n",
      "Cleaning up Automation Locs\n",
      "Done\n",
      "Starting Recon Report Update Monitoring\n",
      "Monitoring started on folder: D:\\ANALYTICS\\Analytics Projects\\PUBLISHED-PROJECTS\\Medical-Charts-ETL\\automation\\recon_report_update\\input for process: recon_report_update\n",
      "Starting Recon Tables Update\n"
     ]
    }
   ],
   "source": [
    "reset_and_monitor_rru()"
   ]
  },
  {
   "cell_type": "markdown",
   "metadata": {},
   "source": [
    "For Manually Updating tables"
   ]
  },
  {
   "cell_type": "code",
   "execution_count": 6,
   "metadata": {},
   "outputs": [],
   "source": [
    "update_header_and_detail_tables()"
   ]
  },
  {
   "cell_type": "markdown",
   "metadata": {},
   "source": [
    "# Incrementing Charts by 10% of initial left charts' as a batch size"
   ]
  },
  {
   "cell_type": "markdown",
   "metadata": {},
   "source": [
    "For fully incrementing and loading all charts into the recon tables set n = 10"
   ]
  },
  {
   "cell_type": "code",
   "execution_count": 9,
   "metadata": {},
   "outputs": [
    {
     "name": "stdout",
     "output_type": "stream",
     "text": [
      "Incrementing Windows Charts\n",
      "Moved 3626 charts for vendor: Gryff\n",
      "Moved 3634 charts for vendor: Huffle\n",
      "Moved 3816 charts for vendor: Raven\n",
      "\n",
      "Incrementing CSV Charts\n",
      "Moved 3626 charts for vendor: Gryff\n",
      "Moved 3634 charts for vendor: Huffle\n",
      "Moved 3816 charts for vendor: Raven\n",
      "\n",
      "Incrementing SQL Charts\n",
      "Moved SQL Charts\n",
      "\n",
      "Printing Vendor Lists Stats:-\n",
      "\n",
      "Gryff\n",
      "{'Report': 90665,\n",
      " 'Windows': 68903,\n",
      " 'CSV': 68902,\n",
      " 'SQL': 68903,\n",
      " 'Windows Left': 21762,\n",
      " 'CSV Left': 21763,\n",
      " 'SQL Left': 21762}\n",
      "\n",
      "Huffle\n",
      "{'Report': 90849,\n",
      " 'Windows': 69045,\n",
      " 'CSV': 69045,\n",
      " 'SQL': 69045,\n",
      " 'Windows Left': 21804,\n",
      " 'CSV Left': 21804,\n",
      " 'SQL Left': 21804}\n",
      "\n",
      "Raven\n",
      "{'Report': 95414,\n",
      " 'Windows': 72512,\n",
      " 'CSV': 72512,\n",
      " 'SQL': 72512,\n",
      " 'Windows Left': 22902,\n",
      " 'CSV Left': 22902,\n",
      " 'SQL Left': 22902}\n",
      "\n",
      "Incrementing Windows Charts\n",
      "Moved 3626 charts for vendor: Gryff\n",
      "Moved 3634 charts for vendor: Huffle\n",
      "Moved 3816 charts for vendor: Raven\n",
      "\n",
      "Incrementing CSV Charts\n",
      "Moved 3626 charts for vendor: Gryff\n",
      "Moved 3634 charts for vendor: Huffle\n",
      "Moved 3816 charts for vendor: Raven\n",
      "\n",
      "Incrementing SQL Charts\n",
      "Moved SQL Charts\n",
      "\n",
      "Printing Vendor Lists Stats:-\n",
      "\n",
      "Gryff\n",
      "{'Report': 90665,\n",
      " 'Windows': 72529,\n",
      " 'CSV': 72528,\n",
      " 'SQL': 72529,\n",
      " 'Windows Left': 18136,\n",
      " 'CSV Left': 18137,\n",
      " 'SQL Left': 18136}\n",
      "\n",
      "Huffle\n",
      "{'Report': 90849,\n",
      " 'Windows': 72679,\n",
      " 'CSV': 72679,\n",
      " 'SQL': 72679,\n",
      " 'Windows Left': 18170,\n",
      " 'CSV Left': 18170,\n",
      " 'SQL Left': 18170}\n",
      "\n",
      "Raven\n",
      "{'Report': 95414,\n",
      " 'Windows': 76328,\n",
      " 'CSV': 76328,\n",
      " 'SQL': 76328,\n",
      " 'Windows Left': 19086,\n",
      " 'CSV Left': 19086,\n",
      " 'SQL Left': 19086}\n",
      "\n",
      "Incrementing Windows Charts\n",
      "Moved 3626 charts for vendor: Gryff\n",
      "Moved 3634 charts for vendor: Huffle\n",
      "Moved 3816 charts for vendor: Raven\n",
      "\n",
      "Incrementing CSV Charts\n",
      "Moved 3626 charts for vendor: Gryff\n",
      "Moved 3634 charts for vendor: Huffle\n",
      "Moved 3816 charts for vendor: Raven\n",
      "\n",
      "Incrementing SQL Charts\n",
      "Moved SQL Charts\n",
      "\n",
      "Printing Vendor Lists Stats:-\n",
      "\n",
      "Gryff\n",
      "{'Report': 90665,\n",
      " 'Windows': 76155,\n",
      " 'CSV': 76154,\n",
      " 'SQL': 76155,\n",
      " 'Windows Left': 14510,\n",
      " 'CSV Left': 14511,\n",
      " 'SQL Left': 14510}\n",
      "\n",
      "Huffle\n",
      "{'Report': 90849,\n",
      " 'Windows': 76313,\n",
      " 'CSV': 76313,\n",
      " 'SQL': 76313,\n",
      " 'Windows Left': 14536,\n",
      " 'CSV Left': 14536,\n",
      " 'SQL Left': 14536}\n",
      "\n",
      "Raven\n",
      "{'Report': 95414,\n",
      " 'Windows': 80144,\n",
      " 'CSV': 80144,\n",
      " 'SQL': 80144,\n",
      " 'Windows Left': 15270,\n",
      " 'CSV Left': 15270,\n",
      " 'SQL Left': 15270}\n",
      "\n",
      "Incrementing Windows Charts\n",
      "Moved 3626 charts for vendor: Gryff\n",
      "Moved 3634 charts for vendor: Huffle\n",
      "Moved 3816 charts for vendor: Raven\n",
      "\n",
      "Incrementing CSV Charts\n",
      "Moved 3626 charts for vendor: Gryff\n",
      "Moved 3634 charts for vendor: Huffle\n",
      "Moved 3816 charts for vendor: Raven\n",
      "\n",
      "Incrementing SQL Charts\n",
      "Moved SQL Charts\n",
      "\n",
      "Printing Vendor Lists Stats:-\n",
      "\n",
      "Gryff\n",
      "{'Report': 90665,\n",
      " 'Windows': 79781,\n",
      " 'CSV': 79780,\n",
      " 'SQL': 79781,\n",
      " 'Windows Left': 10884,\n",
      " 'CSV Left': 10885,\n",
      " 'SQL Left': 10884}\n",
      "\n",
      "Huffle\n",
      "{'Report': 90849,\n",
      " 'Windows': 79947,\n",
      " 'CSV': 79947,\n",
      " 'SQL': 79947,\n",
      " 'Windows Left': 10902,\n",
      " 'CSV Left': 10902,\n",
      " 'SQL Left': 10902}\n",
      "\n",
      "Raven\n",
      "{'Report': 95414,\n",
      " 'Windows': 83960,\n",
      " 'CSV': 83960,\n",
      " 'SQL': 83960,\n",
      " 'Windows Left': 11454,\n",
      " 'CSV Left': 11454,\n",
      " 'SQL Left': 11454}\n",
      "\n",
      "Incrementing Windows Charts\n",
      "Moved 3626 charts for vendor: Gryff\n",
      "Moved 3634 charts for vendor: Huffle\n",
      "Moved 3816 charts for vendor: Raven\n",
      "\n",
      "Incrementing CSV Charts\n",
      "Moved 3626 charts for vendor: Gryff\n",
      "Moved 3634 charts for vendor: Huffle\n",
      "Moved 3816 charts for vendor: Raven\n",
      "\n",
      "Incrementing SQL Charts\n",
      "Moved SQL Charts\n",
      "\n",
      "Printing Vendor Lists Stats:-\n",
      "\n",
      "Gryff\n",
      "{'Report': 90665,\n",
      " 'Windows': 83407,\n",
      " 'CSV': 83406,\n",
      " 'SQL': 83407,\n",
      " 'Windows Left': 7258,\n",
      " 'CSV Left': 7259,\n",
      " 'SQL Left': 7258}\n",
      "\n",
      "Huffle\n",
      "{'Report': 90849,\n",
      " 'Windows': 83581,\n",
      " 'CSV': 83581,\n",
      " 'SQL': 83581,\n",
      " 'Windows Left': 7268,\n",
      " 'CSV Left': 7268,\n",
      " 'SQL Left': 7268}\n",
      "\n",
      "Raven\n",
      "{'Report': 95414,\n",
      " 'Windows': 87776,\n",
      " 'CSV': 87776,\n",
      " 'SQL': 87776,\n",
      " 'Windows Left': 7638,\n",
      " 'CSV Left': 7638,\n",
      " 'SQL Left': 7638}\n",
      "\n",
      "Incrementing Windows Charts\n",
      "Moved 3626 charts for vendor: Gryff\n",
      "Moved 3634 charts for vendor: Huffle\n",
      "Moved 3816 charts for vendor: Raven\n",
      "\n",
      "Incrementing CSV Charts\n",
      "Moved 3626 charts for vendor: Gryff\n",
      "Moved 3634 charts for vendor: Huffle\n",
      "Moved 3816 charts for vendor: Raven\n",
      "\n",
      "Incrementing SQL Charts\n",
      "Moved SQL Charts\n",
      "\n",
      "Printing Vendor Lists Stats:-\n",
      "\n",
      "Gryff\n",
      "{'Report': 90665,\n",
      " 'Windows': 87033,\n",
      " 'CSV': 87032,\n",
      " 'SQL': 87033,\n",
      " 'Windows Left': 3632,\n",
      " 'CSV Left': 3633,\n",
      " 'SQL Left': 3632}\n",
      "\n",
      "Huffle\n",
      "{'Report': 90849,\n",
      " 'Windows': 87215,\n",
      " 'CSV': 87215,\n",
      " 'SQL': 87215,\n",
      " 'Windows Left': 3634,\n",
      " 'CSV Left': 3634,\n",
      " 'SQL Left': 3634}\n",
      "\n",
      "Raven\n",
      "{'Report': 95414,\n",
      " 'Windows': 91592,\n",
      " 'CSV': 91592,\n",
      " 'SQL': 91592,\n",
      " 'Windows Left': 3822,\n",
      " 'CSV Left': 3822,\n",
      " 'SQL Left': 3822}\n",
      "\n",
      "Incrementing Windows Charts\n",
      "Moved 3626 charts for vendor: Gryff\n",
      "Moved 3634 charts for vendor: Huffle\n",
      "Moved 3816 charts for vendor: Raven\n",
      "\n",
      "Incrementing CSV Charts\n",
      "Moved 3626 charts for vendor: Gryff\n",
      "Moved 3634 charts for vendor: Huffle\n",
      "Moved 3816 charts for vendor: Raven\n",
      "\n",
      "Incrementing SQL Charts\n",
      "Moved SQL Charts\n",
      "\n",
      "Printing Vendor Lists Stats:-\n",
      "\n",
      "Gryff\n",
      "{'Report': 90665,\n",
      " 'Windows': 90659,\n",
      " 'CSV': 90658,\n",
      " 'SQL': 90659,\n",
      " 'Windows Left': 6,\n",
      " 'CSV Left': 7,\n",
      " 'SQL Left': 6}\n",
      "\n",
      "Huffle\n",
      "{'Report': 90849,\n",
      " 'Windows': 90849,\n",
      " 'CSV': 90849,\n",
      " 'SQL': 90849,\n",
      " 'Windows Left': 0,\n",
      " 'CSV Left': 0,\n",
      " 'SQL Left': 0}\n",
      "\n",
      "Raven\n",
      "{'Report': 95414,\n",
      " 'Windows': 95408,\n",
      " 'CSV': 95408,\n",
      " 'SQL': 95408,\n",
      " 'Windows Left': 6,\n",
      " 'CSV Left': 6,\n",
      " 'SQL Left': 6}\n",
      "\n",
      "Incrementing Windows Charts\n",
      "Moved 6 charts for vendor: Gryff\n",
      "Moved 0 charts for vendor: Huffle\n",
      "Moved 6 charts for vendor: Raven\n",
      "\n",
      "Incrementing CSV Charts\n",
      "Moved 7 charts for vendor: Gryff\n",
      "Moved 0 charts for vendor: Huffle\n",
      "Moved 6 charts for vendor: Raven\n",
      "\n",
      "Incrementing SQL Charts\n",
      "Moved SQL Charts\n",
      "\n",
      "Printing Vendor Lists Stats:-\n",
      "\n",
      "Gryff\n",
      "{'Report': 90665,\n",
      " 'Windows': 90665,\n",
      " 'CSV': 90665,\n",
      " 'SQL': 90665,\n",
      " 'Windows Left': 0,\n",
      " 'CSV Left': 0,\n",
      " 'SQL Left': 0}\n",
      "\n",
      "Huffle\n",
      "{'Report': 90849,\n",
      " 'Windows': 90849,\n",
      " 'CSV': 90849,\n",
      " 'SQL': 90849,\n",
      " 'Windows Left': 0,\n",
      " 'CSV Left': 0,\n",
      " 'SQL Left': 0}\n",
      "\n",
      "Raven\n",
      "{'Report': 95414,\n",
      " 'Windows': 95414,\n",
      " 'CSV': 95414,\n",
      " 'SQL': 95414,\n",
      " 'Windows Left': 0,\n",
      " 'CSV Left': 0,\n",
      " 'SQL Left': 0}\n",
      "\n",
      "Incrementing Windows Charts\n",
      "Moved 0 charts for vendor: Gryff\n",
      "Moved 0 charts for vendor: Huffle\n",
      "Moved 0 charts for vendor: Raven\n",
      "\n",
      "Incrementing CSV Charts\n",
      "Moved 0 charts for vendor: Gryff\n",
      "Moved 0 charts for vendor: Huffle\n",
      "Moved 0 charts for vendor: Raven\n",
      "\n",
      "Incrementing SQL Charts\n",
      "Moved SQL Charts\n",
      "\n",
      "Printing Vendor Lists Stats:-\n",
      "\n",
      "Gryff\n",
      "{'Report': 90665,\n",
      " 'Windows': 90665,\n",
      " 'CSV': 90665,\n",
      " 'SQL': 90665,\n",
      " 'Windows Left': 0,\n",
      " 'CSV Left': 0,\n",
      " 'SQL Left': 0}\n",
      "\n",
      "Huffle\n",
      "{'Report': 90849,\n",
      " 'Windows': 90849,\n",
      " 'CSV': 90849,\n",
      " 'SQL': 90849,\n",
      " 'Windows Left': 0,\n",
      " 'CSV Left': 0,\n",
      " 'SQL Left': 0}\n",
      "\n",
      "Raven\n",
      "{'Report': 95414,\n",
      " 'Windows': 95414,\n",
      " 'CSV': 95414,\n",
      " 'SQL': 95414,\n",
      " 'Windows Left': 0,\n",
      " 'CSV Left': 0,\n",
      " 'SQL Left': 0}\n",
      "\n"
     ]
    }
   ],
   "source": [
    "ntimes_10percent_increment(9)"
   ]
  }
 ],
 "metadata": {
  "kernelspec": {
   "display_name": "Python 3",
   "language": "python",
   "name": "python3"
  },
  "language_info": {
   "codemirror_mode": {
    "name": "ipython",
    "version": 3
   },
   "file_extension": ".py",
   "mimetype": "text/x-python",
   "name": "python",
   "nbconvert_exporter": "python",
   "pygments_lexer": "ipython3",
   "version": "3.12.7"
  }
 },
 "nbformat": 4,
 "nbformat_minor": 2
}
