{
 "cells": [
  {
   "cell_type": "code",
   "execution_count": 1,
   "metadata": {},
   "outputs": [],
   "source": [
    "import sys\n",
    "import os\n",
    "\n",
    "# Get the root directory (one level up from 'notebooks')\n",
    "root_dir = os.path.abspath(os.path.join(os.getcwd(), \"..\"))\n",
    "src_dir = os.path.join(root_dir, \"src\")\n",
    "if src_dir not in sys.path:\n",
    "    sys.path.append(src_dir)\n",
    "\n",
    "from dataprep import (\n",
    "    generate_all_vendor_reports,\n",
    "    push_all_sql_charts,\n",
    "    create_all_windows_charts,\n",
    "    get_and_save_batch_size,\n",
    ")\n",
    "from automation import (\n",
    "    update_header_and_detail_tables,\n",
    "    reset_and_monitor_rrl,\n",
    "    reset_and_process_rrl,\n",
    "    reset_and_monitor_rru,\n",
    "    ntimes_10percent_increment,\n",
    ")\n",
    "from utils import (\n",
    "    ensuring_project_directories_all_exist,\n",
    "    open_excelsetup_file,\n",
    "    clean_leaf_directories\n",
    ")"
   ]
  },
  {
   "cell_type": "markdown",
   "metadata": {},
   "source": [
    "# Clearing up all directories"
   ]
  },
  {
   "cell_type": "code",
   "execution_count": 2,
   "metadata": {},
   "outputs": [],
   "source": [
    "clean_leaf_directories()"
   ]
  },
  {
   "cell_type": "markdown",
   "metadata": {},
   "source": [
    "# Ensuring that all directories exist"
   ]
  },
  {
   "cell_type": "code",
   "execution_count": 4,
   "metadata": {},
   "outputs": [],
   "source": [
    "ensuring_project_directories_all_exist()"
   ]
  },
  {
   "cell_type": "markdown",
   "metadata": {},
   "source": [
    "# Generating reports for all vendors"
   ]
  },
  {
   "cell_type": "markdown",
   "metadata": {},
   "source": [
    "Cleans up and creates all report files"
   ]
  },
  {
   "cell_type": "code",
   "execution_count": 5,
   "metadata": {},
   "outputs": [],
   "source": [
    "generate_all_vendor_reports()"
   ]
  },
  {
   "cell_type": "markdown",
   "metadata": {},
   "source": [
    "# For Creating charts in Windows Location"
   ]
  },
  {
   "cell_type": "markdown",
   "metadata": {},
   "source": [
    "Cleans up and creates all windows location charts"
   ]
  },
  {
   "cell_type": "code",
   "execution_count": 6,
   "metadata": {},
   "outputs": [
    {
     "name": "stdout",
     "output_type": "stream",
     "text": [
      "Gryff :- \n",
      "All Charts : 98151\n",
      "Limited Charts : 58890\n",
      "Left Charts : 39261\n",
      "\n",
      "Huffle :- \n",
      "All Charts : 94099\n",
      "Limited Charts : 56459\n",
      "Left Charts : 37640\n",
      "\n",
      "Raven :- \n",
      "All Charts : 87690\n",
      "Limited Charts : 52614\n",
      "Left Charts : 35076\n",
      "\n"
     ]
    }
   ],
   "source": [
    "create_all_windows_charts()"
   ]
  },
  {
   "cell_type": "markdown",
   "metadata": {},
   "source": [
    "# For Pushing charts to SQL"
   ]
  },
  {
   "cell_type": "markdown",
   "metadata": {},
   "source": [
    "Cleans up SQL Chart Tables and performs a fresh push to them"
   ]
  },
  {
   "cell_type": "code",
   "execution_count": 7,
   "metadata": {},
   "outputs": [
    {
     "name": "stdout",
     "output_type": "stream",
     "text": [
      "Gryff :- \n",
      "All Charts : 98151\n",
      "Limited Charts : 58890\n",
      "Left Charts : 39260\n",
      "\n",
      "Huffle :- \n",
      "All Charts : 94099\n",
      "Limited Charts : 56459\n",
      "Left Charts : 37640\n",
      "\n",
      "Raven :- \n",
      "All Charts : 87690\n",
      "Limited Charts : 52614\n",
      "Left Charts : 35076\n",
      "\n"
     ]
    }
   ],
   "source": [
    "push_all_sql_charts()"
   ]
  },
  {
   "cell_type": "markdown",
   "metadata": {},
   "source": [
    "# For creating CSV files"
   ]
  },
  {
   "cell_type": "markdown",
   "metadata": {},
   "source": [
    "For Running Excel Setup from xlsm file directly, the following command opens up the excel workbook\n",
    "\n",
    "Note:- For the first time opening the excel setup, you'd need to fix up the power query connections. Follow the following steps when opening the excel file for the first time.\n",
    "\n",
    "1. Open the excel file\n",
    "2. Click on Data > Queries & Connections\n",
    "3. Right Click and Select Edit on any of the Queries from the right menu, ex. Gryff_allcharts\n",
    "4. This would open up the Power Query Editor, you'd have to edit the 'Source' step of all three Queries - Gryff_allcharts, Huffle_allcharts, Raven_allcharts \n",
    "5. Change the source File from 'D:\\ANALYTICS\\Analytics Projects\\PUBLISHED-PROJECTS\\Medical-Charts-ETL\\data\\reports\\Gryff\\Gryff_chartlist.txt' to '<Repository Root>\\data\\reports\\Gryff\\Gryff_chartlist.txt>' \n",
    "6. Repeat this step for Huffle_allcharts and Raven_allcharts\n",
    "7. Save and Close"
   ]
  },
  {
   "cell_type": "code",
   "execution_count": 8,
   "metadata": {},
   "outputs": [],
   "source": [
    "open_excelsetup_file()"
   ]
  },
  {
   "cell_type": "markdown",
   "metadata": {},
   "source": [
    "## **Recon Report Load**"
   ]
  },
  {
   "cell_type": "markdown",
   "metadata": {},
   "source": [
    "# For Automation Monitoring Start"
   ]
  },
  {
   "cell_type": "markdown",
   "metadata": {},
   "source": [
    "Files can be directly copied and pasted in the monitored location for them to be processed"
   ]
  },
  {
   "cell_type": "code",
   "execution_count": 14,
   "metadata": {},
   "outputs": [
    {
     "name": "stdout",
     "output_type": "stream",
     "text": [
      "Clearing Reports from Automation Staging, Copying again from Source\n",
      "Done\n",
      "Deleting Messages from Recon Report Load Channel\n",
      "Message 1732601872.114959 deleted successfully\n",
      "Done\n",
      "Cleaning up Automation Locs\n",
      "Done\n",
      "Resetting Recon Report Load SQL Tables\n",
      "Done\n",
      "Starting Recon Report Load Monitoring\n",
      "Monitoring started on folder: D:\\ANALYTICS\\Analytics Projects\\PUBLISHED-PROJECTS\\Medical-Charts-ETL\\automation\\recon_report_load\\input for process: recon_report_load\n"
     ]
    }
   ],
   "source": [
    "reset_and_monitor_rrl()"
   ]
  },
  {
   "cell_type": "markdown",
   "metadata": {},
   "source": [
    "# For Auto Sequential Processing"
   ]
  },
  {
   "cell_type": "markdown",
   "metadata": {},
   "source": [
    "Files don't need to be copied for processing"
   ]
  },
  {
   "cell_type": "code",
   "execution_count": 9,
   "metadata": {},
   "outputs": [
    {
     "name": "stdout",
     "output_type": "stream",
     "text": [
      "Clearing Reports from Automation Staging, Copying again from Source\n",
      "Done\n",
      "Cleaning up Automation Locs\n",
      "Done\n",
      "Resetting Recon Report Load SQL Tables\n",
      "Done\n",
      "Auto Sequentially Loading Reports to SQL Tables\n",
      "Done\n"
     ]
    }
   ],
   "source": [
    "reset_and_process_rrl()"
   ]
  },
  {
   "cell_type": "markdown",
   "metadata": {},
   "source": [
    "Saving Chart Batch Size in external resource file for help in incrementing charts"
   ]
  },
  {
   "cell_type": "code",
   "execution_count": 10,
   "metadata": {},
   "outputs": [
    {
     "name": "stdout",
     "output_type": "stream",
     "text": [
      "Gryff\n",
      "{'Report': 98151,\n",
      " 'Windows': 58889,\n",
      " 'CSV': 58890,\n",
      " 'SQL': 58890,\n",
      " 'Windows Left': 39261,\n",
      " 'CSV Left': 39261,\n",
      " 'SQL Left': 39260}\n",
      "\n",
      "Huffle\n",
      "{'Report': 94099,\n",
      " 'Windows': 56459,\n",
      " 'CSV': 56459,\n",
      " 'SQL': 56459,\n",
      " 'Windows Left': 37640,\n",
      " 'CSV Left': 37640,\n",
      " 'SQL Left': 37640}\n",
      "\n",
      "Raven\n",
      "{'Report': 87690,\n",
      " 'Windows': 52614,\n",
      " 'CSV': 52613,\n",
      " 'SQL': 52614,\n",
      " 'Windows Left': 35076,\n",
      " 'CSV Left': 35077,\n",
      " 'SQL Left': 35076}\n",
      "\n"
     ]
    }
   ],
   "source": [
    "get_and_save_batch_size()"
   ]
  },
  {
   "cell_type": "markdown",
   "metadata": {},
   "source": [
    "# Updating Recon Report Detail Table Indicators & Header Table Tally Counts"
   ]
  },
  {
   "cell_type": "markdown",
   "metadata": {},
   "source": [
    "## **Recon Report Update**"
   ]
  },
  {
   "cell_type": "code",
   "execution_count": 5,
   "metadata": {},
   "outputs": [
    {
     "name": "stdout",
     "output_type": "stream",
     "text": [
      "Deleting Messages from Recon Report Update Channel\n",
      "Message 1732602302.521689 deleted successfully\n",
      "Done\n",
      "Cleaning up Automation Locs\n",
      "Done\n",
      "Starting Recon Report Update Monitoring\n",
      "Monitoring started on folder: D:\\ANALYTICS\\Analytics Projects\\PUBLISHED-PROJECTS\\Medical-Charts-ETL\\automation\\recon_report_update\\input for process: recon_report_update\n",
      "Starting Recon Tables Update\n"
     ]
    }
   ],
   "source": [
    "reset_and_monitor_rru()"
   ]
  },
  {
   "cell_type": "markdown",
   "metadata": {},
   "source": [
    "For Manually Updating tables"
   ]
  },
  {
   "cell_type": "code",
   "execution_count": 11,
   "metadata": {},
   "outputs": [],
   "source": [
    "update_header_and_detail_tables()"
   ]
  },
  {
   "cell_type": "markdown",
   "metadata": {},
   "source": [
    "# Incrementing Charts by 10% of initial left charts' as a batch size"
   ]
  },
  {
   "cell_type": "markdown",
   "metadata": {},
   "source": [
    "For fully incrementing and loading all charts into the recon tables set n = 10"
   ]
  },
  {
   "cell_type": "code",
   "execution_count": 12,
   "metadata": {},
   "outputs": [
    {
     "name": "stdout",
     "output_type": "stream",
     "text": [
      "Incrementing Windows Charts\n",
      "Moved 3926 charts for vendor: Gryff\n",
      "Moved 3764 charts for vendor: Huffle\n",
      "Moved 3507 charts for vendor: Raven\n",
      "\n",
      "Incrementing CSV Charts\n",
      "Moved 3926 charts for vendor: Gryff\n",
      "Moved 3764 charts for vendor: Huffle\n",
      "Moved 3507 charts for vendor: Raven\n",
      "\n",
      "Incrementing SQL Charts\n",
      "Moved SQL Charts\n",
      "\n",
      "Printing Vendor Lists Stats:-\n",
      "\n",
      "Gryff\n",
      "{'Report': 98151,\n",
      " 'Windows': 62815,\n",
      " 'CSV': 62816,\n",
      " 'SQL': 62816,\n",
      " 'Windows Left': 35335,\n",
      " 'CSV Left': 35335,\n",
      " 'SQL Left': 35334}\n",
      "\n",
      "Huffle\n",
      "{'Report': 94099,\n",
      " 'Windows': 60223,\n",
      " 'CSV': 60223,\n",
      " 'SQL': 60223,\n",
      " 'Windows Left': 33876,\n",
      " 'CSV Left': 33876,\n",
      " 'SQL Left': 33876}\n",
      "\n",
      "Raven\n",
      "{'Report': 87690,\n",
      " 'Windows': 56121,\n",
      " 'CSV': 56120,\n",
      " 'SQL': 56121,\n",
      " 'Windows Left': 31569,\n",
      " 'CSV Left': 31570,\n",
      " 'SQL Left': 31569}\n",
      "\n",
      "Incrementing Windows Charts\n",
      "Moved 3926 charts for vendor: Gryff\n",
      "Moved 3764 charts for vendor: Huffle\n",
      "Moved 3507 charts for vendor: Raven\n",
      "\n",
      "Incrementing CSV Charts\n",
      "Moved 3926 charts for vendor: Gryff\n",
      "Moved 3764 charts for vendor: Huffle\n",
      "Moved 3507 charts for vendor: Raven\n",
      "\n",
      "Incrementing SQL Charts\n",
      "Moved SQL Charts\n",
      "\n",
      "Printing Vendor Lists Stats:-\n",
      "\n",
      "Gryff\n",
      "{'Report': 98151,\n",
      " 'Windows': 66741,\n",
      " 'CSV': 66742,\n",
      " 'SQL': 66742,\n",
      " 'Windows Left': 31409,\n",
      " 'CSV Left': 31409,\n",
      " 'SQL Left': 31408}\n",
      "\n",
      "Huffle\n",
      "{'Report': 94099,\n",
      " 'Windows': 63987,\n",
      " 'CSV': 63987,\n",
      " 'SQL': 63987,\n",
      " 'Windows Left': 30112,\n",
      " 'CSV Left': 30112,\n",
      " 'SQL Left': 30112}\n",
      "\n",
      "Raven\n",
      "{'Report': 87690,\n",
      " 'Windows': 59628,\n",
      " 'CSV': 59627,\n",
      " 'SQL': 59628,\n",
      " 'Windows Left': 28062,\n",
      " 'CSV Left': 28063,\n",
      " 'SQL Left': 28062}\n",
      "\n"
     ]
    }
   ],
   "source": [
    "ntimes_10percent_increment(2)"
   ]
  }
 ],
 "metadata": {
  "kernelspec": {
   "display_name": "Python 3",
   "language": "python",
   "name": "python3"
  },
  "language_info": {
   "codemirror_mode": {
    "name": "ipython",
    "version": 3
   },
   "file_extension": ".py",
   "mimetype": "text/x-python",
   "name": "python",
   "nbconvert_exporter": "python",
   "pygments_lexer": "ipython3",
   "version": "3.12.7"
  }
 },
 "nbformat": 4,
 "nbformat_minor": 2
}
