{
 "cells": [
  {
   "cell_type": "markdown",
   "metadata": {},
   "source": [
    "# **Medical Charts ETL** (Demo)\n",
    "- Before running this notebook, ensure you have completed the setup as outlined in the Installation Guide in the `README.md` file located in the root directory. \n",
    "- Once ready, execute the cells sequentially to test the Medical Charts ETL process."
   ]
  },
  {
   "cell_type": "markdown",
   "metadata": {},
   "source": [
    "---"
   ]
  },
  {
   "cell_type": "markdown",
   "metadata": {},
   "source": [
    "## **Basic Setup**"
   ]
  },
  {
   "cell_type": "markdown",
   "metadata": {},
   "source": [
    "### **Setup Path and Imports**"
   ]
  },
  {
   "cell_type": "code",
   "execution_count": 1,
   "metadata": {},
   "outputs": [],
   "source": [
    "import sys\n",
    "import os\n",
    "\n",
    "root_dir = os.path.abspath(os.path.join(os.getcwd(), \"..\"))\n",
    "src_dir = os.path.join(root_dir, \"src\")\n",
    "if src_dir not in sys.path:\n",
    "    sys.path.append(src_dir)\n",
    "\n",
    "from dataprep import (\n",
    "    generate_all_vendor_reports,\n",
    "    push_all_sql_charts,\n",
    "    create_all_windows_charts,\n",
    "    get_and_save_batch_size,\n",
    ")\n",
    "from automation import (\n",
    "    update_header_and_detail_tables,\n",
    "    reset_and_monitor_rrl,\n",
    "    reset_and_process_rrl,\n",
    "    reset_and_monitor_rru,\n",
    "    ntimes_10percent_increment,\n",
    ")\n",
    "from utils import (\n",
    "    ensuring_project_directories_all_exist,\n",
    "    open_excelsetup_file,\n",
    "    clean_leaf_directories\n",
    ")"
   ]
  },
  {
   "cell_type": "markdown",
   "metadata": {},
   "source": [
    "### **Clearing up all directories**"
   ]
  },
  {
   "cell_type": "code",
   "execution_count": 2,
   "metadata": {},
   "outputs": [],
   "source": [
    "clean_leaf_directories()"
   ]
  },
  {
   "cell_type": "markdown",
   "metadata": {},
   "source": [
    "### **Ensuring all directories exist**"
   ]
  },
  {
   "cell_type": "code",
   "execution_count": 3,
   "metadata": {},
   "outputs": [],
   "source": [
    "ensuring_project_directories_all_exist()"
   ]
  },
  {
   "cell_type": "markdown",
   "metadata": {},
   "source": [
    "---"
   ]
  },
  {
   "cell_type": "markdown",
   "metadata": {},
   "source": [
    "## **Data Preperation**"
   ]
  },
  {
   "cell_type": "markdown",
   "metadata": {},
   "source": [
    "### **Daily Reports Generation**"
   ]
  },
  {
   "cell_type": "code",
   "execution_count": 4,
   "metadata": {},
   "outputs": [],
   "source": [
    "generate_all_vendor_reports()"
   ]
  },
  {
   "cell_type": "markdown",
   "metadata": {},
   "source": [
    "### **Windows Location Chart Creation** "
   ]
  },
  {
   "cell_type": "code",
   "execution_count": 5,
   "metadata": {},
   "outputs": [
    {
     "name": "stdout",
     "output_type": "stream",
     "text": [
      "Gryff :- \n",
      "All Charts : 96457\n",
      "Limited Charts : 57874\n",
      "Left Charts : 38583\n",
      "\n",
      "Huffle :- \n",
      "All Charts : 86855\n",
      "Limited Charts : 52113\n",
      "Left Charts : 34742\n",
      "\n",
      "Raven :- \n",
      "All Charts : 92961\n",
      "Limited Charts : 55776\n",
      "Left Charts : 37185\n",
      "\n"
     ]
    }
   ],
   "source": [
    "create_all_windows_charts()"
   ]
  },
  {
   "cell_type": "markdown",
   "metadata": {},
   "source": [
    "### **Loading SQL Chart Tables**  "
   ]
  },
  {
   "cell_type": "code",
   "execution_count": 6,
   "metadata": {},
   "outputs": [
    {
     "name": "stdout",
     "output_type": "stream",
     "text": [
      "Gryff :- \n",
      "All Charts : 96457\n",
      "Limited Charts : 57874\n",
      "Left Charts : 38583\n",
      "\n",
      "Huffle :- \n",
      "All Charts : 86855\n",
      "Limited Charts : 52113\n",
      "Left Charts : 34742\n",
      "\n",
      "Raven :- \n",
      "All Charts : 92961\n",
      "Limited Charts : 55776\n",
      "Left Charts : 37185\n",
      "\n"
     ]
    }
   ],
   "source": [
    "push_all_sql_charts()"
   ]
  },
  {
   "cell_type": "markdown",
   "metadata": {},
   "source": [
    "### **Creating CSV Chart Files**"
   ]
  },
  {
   "cell_type": "markdown",
   "metadata": {},
   "source": [
    "When opening the Excel setup for the first time (the command in the next cell opens the Excel file), you need to update the Power Query connections to ensure they work correctly. Follow these steps to update the connections:\n",
    "\n",
    "1. Open the excel file.\n",
    "2. Navigate to Data > Queries & Connections.\n",
    "3. In the Queries & Connections pane, right-click any of the queries (e.g., Gryff_allcharts) and select Edit.\n",
    "4. The Power Query Editor will open. You need to update the Source step for all three queries (Gryff_allcharts, Huffle_allcharts, Raven_allcharts). \n",
    "5. Replace the source file path from `D:\\ANALYTICS\\Analytics Projects\\PUBLISHED-PROJECTS\\Medical-Charts-ETL\\data\\reports\\Gryff\\Gryff_chartlist.txt` to `<Repository Root>\\data\\reports\\Gryff\\Gryff_chartlist.txt>`.\n",
    "6. Repeat Step 5 for the queries Huffle_allcharts and Raven_allcharts.\n",
    "7. Save and Close the Power Query Editor."
   ]
  },
  {
   "cell_type": "code",
   "execution_count": 7,
   "metadata": {},
   "outputs": [],
   "source": [
    "open_excelsetup_file()"
   ]
  },
  {
   "cell_type": "markdown",
   "metadata": {},
   "source": [
    "---"
   ]
  },
  {
   "cell_type": "markdown",
   "metadata": {},
   "source": [
    "## **Automation**"
   ]
  },
  {
   "cell_type": "markdown",
   "metadata": {},
   "source": [
    "### **Recon Report Load**\n",
    "Parse and Load Report Files into Recon Header and Detail SQL Tables"
   ]
  },
  {
   "cell_type": "markdown",
   "metadata": {},
   "source": [
    "**For Automation Monitoring Start**\n",
    "\n",
    "- Report Files can be directly copied and pasted into the monitored location to initiate processing automatically. \n",
    "- Ensure the files meet the required format and naming conventions for seamless execution."
   ]
  },
  {
   "cell_type": "code",
   "execution_count": 8,
   "metadata": {},
   "outputs": [
    {
     "name": "stdout",
     "output_type": "stream",
     "text": [
      "Clearing Reports from Automation Staging, Copying again from Source\n",
      "Done\n",
      "Deleting Messages from Recon Report Load Channel\n",
      "Message 1732692443.767039 deleted successfully\n",
      "Done\n",
      "Cleaning up Automation Locs\n",
      "Done\n",
      "Resetting Recon Report Load SQL Tables\n",
      "Done\n",
      "Starting Recon Report Load Monitoring\n",
      "Monitoring started on folder: D:\\ANALYTICS\\Analytics Projects\\PUBLISHED-PROJECTS\\Medical-Charts-ETL\\automation\\recon_report_load\\input for process: recon_report_load\n"
     ]
    }
   ],
   "source": [
    "reset_and_monitor_rrl()"
   ]
  },
  {
   "cell_type": "markdown",
   "metadata": {},
   "source": [
    "**For Auto Sequential Processing**\n",
    "\n",
    "- Files are automatically processed in sequence without requiring manual copying to the monitored location. \n",
    "- Ensure the system is configured correctly and files are available in the designated source directory.\n",
    "\n"
   ]
  },
  {
   "cell_type": "code",
   "execution_count": 2,
   "metadata": {},
   "outputs": [
    {
     "name": "stdout",
     "output_type": "stream",
     "text": [
      "Clearing Reports from Automation Staging, Copying again from Source\n",
      "Done\n",
      "Cleaning up Automation Locs\n",
      "Done\n",
      "Resetting Recon Report Load SQL Tables\n",
      "Done\n",
      "Auto Sequentially Loading Reports to SQL Tables\n",
      "Done\n"
     ]
    }
   ],
   "source": [
    "reset_and_process_rrl()"
   ]
  },
  {
   "cell_type": "markdown",
   "metadata": {},
   "source": [
    "### **Recon Report Update**\n",
    "\n",
    "Updates Recon Report Detail Table Indicators & Header Table Tally Counts"
   ]
  },
  {
   "cell_type": "markdown",
   "metadata": {},
   "source": [
    "**For Automation Monitoring Start**\n",
    "\n",
    "- Trigger File can be directly copied and pasted into the monitored location to initiate processing automatically. "
   ]
  },
  {
   "cell_type": "code",
   "execution_count": 3,
   "metadata": {},
   "outputs": [
    {
     "name": "stdout",
     "output_type": "stream",
     "text": [
      "Deleting Messages from Recon Report Update Channel\n",
      "Message 1732692827.173449 deleted successfully\n",
      "Done\n",
      "Cleaning up Automation Locs\n",
      "Done\n",
      "Starting Recon Report Update Monitoring\n",
      "Monitoring started on folder: D:\\ANALYTICS\\Analytics Projects\\PUBLISHED-PROJECTS\\Medical-Charts-ETL\\automation\\recon_report_update\\input for process: recon_report_update\n",
      "Starting Recon Tables Update\n"
     ]
    }
   ],
   "source": [
    "reset_and_monitor_rru()"
   ]
  },
  {
   "cell_type": "markdown",
   "metadata": {},
   "source": [
    "**For Auto Processing**\n",
    "\n",
    "- SQL Tables are automatically updated without requiring manual copying of trigger file to the monitored location. "
   ]
  },
  {
   "cell_type": "code",
   "execution_count": 4,
   "metadata": {},
   "outputs": [],
   "source": [
    "update_header_and_detail_tables()"
   ]
  },
  {
   "cell_type": "markdown",
   "metadata": {},
   "source": [
    "---"
   ]
  },
  {
   "cell_type": "markdown",
   "metadata": {},
   "source": [
    "## **Incrementing Charts**"
   ]
  },
  {
   "cell_type": "markdown",
   "metadata": {},
   "source": [
    "### **Save Chart Batch Size**\n",
    "Saving to an external resource file for help in incrementing charts"
   ]
  },
  {
   "cell_type": "code",
   "execution_count": 5,
   "metadata": {},
   "outputs": [
    {
     "name": "stdout",
     "output_type": "stream",
     "text": [
      "Gryff\n",
      "{'Report': 96457,\n",
      " 'Windows': 57874,\n",
      " 'CSV': 57874,\n",
      " 'SQL': 57874,\n",
      " 'Windows Left': 38583,\n",
      " 'CSV Left': 38583,\n",
      " 'SQL Left': 38583}\n",
      "\n",
      "Huffle\n",
      "{'Report': 86855,\n",
      " 'Windows': 52113,\n",
      " 'CSV': 52112,\n",
      " 'SQL': 52113,\n",
      " 'Windows Left': 34742,\n",
      " 'CSV Left': 34743,\n",
      " 'SQL Left': 34742}\n",
      "\n",
      "Raven\n",
      "{'Report': 92961,\n",
      " 'Windows': 55776,\n",
      " 'CSV': 55776,\n",
      " 'SQL': 55776,\n",
      " 'Windows Left': 37185,\n",
      " 'CSV Left': 37185,\n",
      " 'SQL Left': 37185}\n",
      "\n"
     ]
    }
   ],
   "source": [
    "get_and_save_batch_size()"
   ]
  },
  {
   "cell_type": "markdown",
   "metadata": {},
   "source": [
    "### **10% Incrementing**\n",
    "- For Incrementing all 3 location charts by 10% of initial left charts, set n = 1. \n",
    "- Mimics the scenario of new data coming in. \n",
    "- For fully incrementing and loading all charts into the recon tables, set n = 10."
   ]
  },
  {
   "cell_type": "code",
   "execution_count": 7,
   "metadata": {},
   "outputs": [
    {
     "name": "stdout",
     "output_type": "stream",
     "text": [
      "Incrementing Windows Charts\n",
      "Moved 3858 charts for vendor: Gryff\n",
      "Moved 3474 charts for vendor: Huffle\n",
      "Moved 3718 charts for vendor: Raven\n",
      "\n",
      "Incrementing CSV Charts\n",
      "Moved 3858 charts for vendor: Gryff\n",
      "Moved 3474 charts for vendor: Huffle\n",
      "Moved 3718 charts for vendor: Raven\n",
      "\n",
      "Incrementing SQL Charts\n",
      "Moved SQL Charts\n",
      "\n",
      "Printing Vendor Lists Stats:-\n",
      "\n",
      "Gryff\n",
      "{'Report': 96457,\n",
      " 'Windows': 69448,\n",
      " 'CSV': 69448,\n",
      " 'SQL': 69448,\n",
      " 'Windows Left': 27009,\n",
      " 'CSV Left': 27009,\n",
      " 'SQL Left': 27009}\n",
      "\n",
      "Huffle\n",
      "{'Report': 86855,\n",
      " 'Windows': 62535,\n",
      " 'CSV': 62534,\n",
      " 'SQL': 62535,\n",
      " 'Windows Left': 24320,\n",
      " 'CSV Left': 24321,\n",
      " 'SQL Left': 24320}\n",
      "\n",
      "Raven\n",
      "{'Report': 92961,\n",
      " 'Windows': 66930,\n",
      " 'CSV': 66930,\n",
      " 'SQL': 66930,\n",
      " 'Windows Left': 26031,\n",
      " 'CSV Left': 26031,\n",
      " 'SQL Left': 26031}\n",
      "\n",
      "Incrementing Windows Charts\n",
      "Moved 3858 charts for vendor: Gryff\n",
      "Moved 3474 charts for vendor: Huffle\n",
      "Moved 3718 charts for vendor: Raven\n",
      "\n",
      "Incrementing CSV Charts\n",
      "Moved 3858 charts for vendor: Gryff\n",
      "Moved 3474 charts for vendor: Huffle\n",
      "Moved 3718 charts for vendor: Raven\n",
      "\n",
      "Incrementing SQL Charts\n",
      "Moved SQL Charts\n",
      "\n",
      "Printing Vendor Lists Stats:-\n",
      "\n",
      "Gryff\n",
      "{'Report': 96457,\n",
      " 'Windows': 73306,\n",
      " 'CSV': 73306,\n",
      " 'SQL': 73306,\n",
      " 'Windows Left': 23151,\n",
      " 'CSV Left': 23151,\n",
      " 'SQL Left': 23151}\n",
      "\n",
      "Huffle\n",
      "{'Report': 86855,\n",
      " 'Windows': 66009,\n",
      " 'CSV': 66008,\n",
      " 'SQL': 66009,\n",
      " 'Windows Left': 20846,\n",
      " 'CSV Left': 20847,\n",
      " 'SQL Left': 20846}\n",
      "\n",
      "Raven\n",
      "{'Report': 92961,\n",
      " 'Windows': 70648,\n",
      " 'CSV': 70648,\n",
      " 'SQL': 70648,\n",
      " 'Windows Left': 22313,\n",
      " 'CSV Left': 22313,\n",
      " 'SQL Left': 22313}\n",
      "\n",
      "Incrementing Windows Charts\n",
      "Moved 3858 charts for vendor: Gryff\n",
      "Moved 3474 charts for vendor: Huffle\n",
      "Moved 3718 charts for vendor: Raven\n",
      "\n",
      "Incrementing CSV Charts\n",
      "Moved 3858 charts for vendor: Gryff\n",
      "Moved 3474 charts for vendor: Huffle\n",
      "Moved 3718 charts for vendor: Raven\n",
      "\n",
      "Incrementing SQL Charts\n",
      "Moved SQL Charts\n",
      "\n",
      "Printing Vendor Lists Stats:-\n",
      "\n",
      "Gryff\n",
      "{'Report': 96457,\n",
      " 'Windows': 77164,\n",
      " 'CSV': 77164,\n",
      " 'SQL': 77164,\n",
      " 'Windows Left': 19293,\n",
      " 'CSV Left': 19293,\n",
      " 'SQL Left': 19293}\n",
      "\n",
      "Huffle\n",
      "{'Report': 86855,\n",
      " 'Windows': 69483,\n",
      " 'CSV': 69482,\n",
      " 'SQL': 69483,\n",
      " 'Windows Left': 17372,\n",
      " 'CSV Left': 17373,\n",
      " 'SQL Left': 17372}\n",
      "\n",
      "Raven\n",
      "{'Report': 92961,\n",
      " 'Windows': 74366,\n",
      " 'CSV': 74366,\n",
      " 'SQL': 74366,\n",
      " 'Windows Left': 18595,\n",
      " 'CSV Left': 18595,\n",
      " 'SQL Left': 18595}\n",
      "\n",
      "Incrementing Windows Charts\n",
      "Moved 3858 charts for vendor: Gryff\n",
      "Moved 3474 charts for vendor: Huffle\n",
      "Moved 3718 charts for vendor: Raven\n",
      "\n",
      "Incrementing CSV Charts\n",
      "Moved 3858 charts for vendor: Gryff\n",
      "Moved 3474 charts for vendor: Huffle\n",
      "Moved 3718 charts for vendor: Raven\n",
      "\n",
      "Incrementing SQL Charts\n",
      "Moved SQL Charts\n",
      "\n",
      "Printing Vendor Lists Stats:-\n",
      "\n",
      "Gryff\n",
      "{'Report': 96457,\n",
      " 'Windows': 81022,\n",
      " 'CSV': 81022,\n",
      " 'SQL': 81022,\n",
      " 'Windows Left': 15435,\n",
      " 'CSV Left': 15435,\n",
      " 'SQL Left': 15435}\n",
      "\n",
      "Huffle\n",
      "{'Report': 86855,\n",
      " 'Windows': 72957,\n",
      " 'CSV': 72956,\n",
      " 'SQL': 72957,\n",
      " 'Windows Left': 13898,\n",
      " 'CSV Left': 13899,\n",
      " 'SQL Left': 13898}\n",
      "\n",
      "Raven\n",
      "{'Report': 92961,\n",
      " 'Windows': 78084,\n",
      " 'CSV': 78084,\n",
      " 'SQL': 78084,\n",
      " 'Windows Left': 14877,\n",
      " 'CSV Left': 14877,\n",
      " 'SQL Left': 14877}\n",
      "\n",
      "Incrementing Windows Charts\n",
      "Moved 3858 charts for vendor: Gryff\n",
      "Moved 3474 charts for vendor: Huffle\n",
      "Moved 3718 charts for vendor: Raven\n",
      "\n",
      "Incrementing CSV Charts\n",
      "Moved 3858 charts for vendor: Gryff\n",
      "Moved 3474 charts for vendor: Huffle\n",
      "Moved 3718 charts for vendor: Raven\n",
      "\n",
      "Incrementing SQL Charts\n",
      "Moved SQL Charts\n",
      "\n",
      "Printing Vendor Lists Stats:-\n",
      "\n",
      "Gryff\n",
      "{'Report': 96457,\n",
      " 'Windows': 84880,\n",
      " 'CSV': 84880,\n",
      " 'SQL': 84880,\n",
      " 'Windows Left': 11577,\n",
      " 'CSV Left': 11577,\n",
      " 'SQL Left': 11577}\n",
      "\n",
      "Huffle\n",
      "{'Report': 86855,\n",
      " 'Windows': 76431,\n",
      " 'CSV': 76430,\n",
      " 'SQL': 76431,\n",
      " 'Windows Left': 10424,\n",
      " 'CSV Left': 10425,\n",
      " 'SQL Left': 10424}\n",
      "\n",
      "Raven\n",
      "{'Report': 92961,\n",
      " 'Windows': 81802,\n",
      " 'CSV': 81802,\n",
      " 'SQL': 81802,\n",
      " 'Windows Left': 11159,\n",
      " 'CSV Left': 11159,\n",
      " 'SQL Left': 11159}\n",
      "\n"
     ]
    }
   ],
   "source": [
    "ntimes_10percent_increment(5)"
   ]
  }
 ],
 "metadata": {
  "kernelspec": {
   "display_name": "Python 3",
   "language": "python",
   "name": "python3"
  },
  "language_info": {
   "codemirror_mode": {
    "name": "ipython",
    "version": 3
   },
   "file_extension": ".py",
   "mimetype": "text/x-python",
   "name": "python",
   "nbconvert_exporter": "python",
   "pygments_lexer": "ipython3",
   "version": "3.12.7"
  }
 },
 "nbformat": 4,
 "nbformat_minor": 2
}
